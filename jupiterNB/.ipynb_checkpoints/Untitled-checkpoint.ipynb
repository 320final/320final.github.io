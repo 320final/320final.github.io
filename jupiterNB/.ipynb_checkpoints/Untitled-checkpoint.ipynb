{
 "cells": [
  {
   "cell_type": "code",
   "execution_count": 1,
   "metadata": {},
   "outputs": [],
   "source": [
    "import math\n",
    "from scipy.stats import uniform\n",
    "import numpy as np"
   ]
  },
  {
   "cell_type": "markdown",
   "metadata": {},
   "source": [
    "## Project 2"
   ]
  },
  {
   "cell_type": "code",
   "execution_count": 2,
   "metadata": {},
   "outputs": [],
   "source": [
    "Z = (375 - 350)/(100/math.sqrt(64))\n",
    "\n",
    "\n",
    "pr = uniform.cdf(Z)\n",
    "p = 2*pr"
   ]
  },
  {
   "cell_type": "code",
   "execution_count": 3,
   "metadata": {},
   "outputs": [
    {
     "name": "stdout",
     "output_type": "stream",
     "text": [
      "2.0\n"
     ]
    }
   ],
   "source": [
    "print(p)\n"
   ]
  },
  {
   "cell_type": "markdown",
   "metadata": {},
   "source": [
    "Since p-value = 2.0 is greater than alpha which is 0.05, we can conclude that there is enough evidence to support the null hypothesis. This means the mean life of large shipment of lightbuulbs is 375 hours and is not different "
   ]
  },
  {
   "cell_type": "markdown",
   "metadata": {},
   "source": [
    "At significance level, alpha = 0.05 the data suggessts that the mean life of the shipment of large bulbs is in fact 375 since "
   ]
  },
  {
   "cell_type": "code",
   "execution_count": 4,
   "metadata": {},
   "outputs": [
    {
     "data": {
      "text/plain": [
       "(352.5, 447.5)"
      ]
     },
     "execution_count": 4,
     "metadata": {},
     "output_type": "execute_result"
    }
   ],
   "source": [
    "uniform.interval(.95, 350, 100)"
   ]
  },
  {
   "cell_type": "markdown",
   "metadata": {},
   "source": [
    "CI is (352.5, 447.5)"
   ]
  },
  {
   "cell_type": "markdown",
   "metadata": {},
   "source": [
    "we can say with 95% confidence level, The mean value 375 is in the interval (352.5,447.5) "
   ]
  },
  {
   "cell_type": "code",
   "execution_count": 5,
   "metadata": {},
   "outputs": [],
   "source": [
    "arr = np.array([7.42, 6.29, 5.83, 6.50, 8.34, 9.51, 7.10, 6.80, 5.90, 4.89, 6.50, 5.52, 7.90, 8.30, 9.60])"
   ]
  },
  {
   "cell_type": "code",
   "execution_count": 6,
   "metadata": {},
   "outputs": [
    {
     "name": "stdout",
     "output_type": "stream",
     "text": [
      "[7.42 6.29 5.83 6.5  8.34 9.51 7.1  6.8  5.9  4.89 6.5  5.52 7.9  8.3\n",
      " 9.6 ]\n"
     ]
    }
   ],
   "source": [
    "print(arr)"
   ]
  },
  {
   "cell_type": "code",
   "execution_count": 7,
   "metadata": {},
   "outputs": [
    {
     "name": "stdout",
     "output_type": "stream",
     "text": [
      "7.093333333333333 1.3583552145476856\n",
      "1.6917298907818643\n",
      "14\n"
     ]
    }
   ],
   "source": [
    "x = np.mean(arr)\n",
    "s = np.std(arr)\n",
    "print(x,s)\n",
    "test_stat = (x-6.50)/(s/(math.sqrt(15)))\n",
    "print(test_stat)    \n",
    "df = 15-1  \n",
    "print(df)"
   ]
  },
  {
   "cell_type": "code",
   "execution_count": 8,
   "metadata": {},
   "outputs": [
    {
     "name": "stdout",
     "output_type": "stream",
     "text": [
      "0.7\n"
     ]
    }
   ],
   "source": [
    "pval = 2*(1-0.65)\n",
    "print(pval)"
   ]
  },
  {
   "cell_type": "markdown",
   "metadata": {},
   "source": [
    "#### 9.28 a, b\n",
    "Since pvalue = 0.7 is greater that alpha = 0.05, there is enough evidence to conclude that null hypothesis is true, thus mean amout spent for lunch is 6.5 "
   ]
  },
  {
   "cell_type": "markdown",
   "metadata": {},
   "source": [
    "#### 9.28 c,d\n",
    "The data suggests that mean amout spent for lunch is 6.5 at significance level 0.05. \n",
    "The population is normally distributed, is the assumption we make.\n",
    "We need not worrt about the shape of population while conducting the t-test as sample size is small and std deviation is unkown and for low n shape of a t curve is always bell shaped and centered at 0 similar to normal distribution"
   ]
  },
  {
   "cell_type": "markdown",
   "metadata": {},
   "source": [
    "## Project 3"
   ]
  },
  {
   "cell_type": "code",
   "execution_count": 9,
   "metadata": {},
   "outputs": [
    {
     "name": "stdout",
     "output_type": "stream",
     "text": [
      "0.07220000000000004\n"
     ]
    }
   ],
   "source": [
    "#9.56 a\n",
    "p = .1835\n",
    "success = 24\n",
    "n = 100\n",
    "test_stat = ((success/n) - p)/math.sqrt((p*(1-p))/n)\n",
    "# phi of test stats -> .9278\n",
    "p = 1 -.9278\n",
    "print(p)"
   ]
  },
  {
   "cell_type": "markdown",
   "metadata": {},
   "source": [
    "###### a \n",
    "Since the p-value = 0.07 > the given significance level, alpha = 0.05, we fail to reject the Null hypothesis which indicates that the market share of Mozilla = 18.35%.\n"
   ]
  },
  {
   "cell_type": "code",
   "execution_count": 10,
   "metadata": {},
   "outputs": [
    {
     "name": "stdout",
     "output_type": "stream",
     "text": [
      "2.919324114217928\n",
      "0\n"
     ]
    }
   ],
   "source": [
    "p = .1835\n",
    "x = 96\n",
    "n = 400\n",
    "\n",
    "test_stat = ((x/n) - p)/math.sqrt((p*(1-p))/n)\n",
    "# phi of test stats -> 0.00\n",
    "p = 1 - 1\n",
    "print(test_stat)\n",
    "print(p)"
   ]
  },
  {
   "cell_type": "markdown",
   "metadata": {},
   "source": [
    "###### b \n",
    "Since p-value is less that 0.05 we reject the null hypothesis as there is enough evidence to state that market share for mozzila firefox is greater that 18.35 % at 0.05 significance \n",
    "###### c\n",
    "Increasing the sample size, we increasing the chances of the Type 1 error thus increasing the power of the test\n",
    "###### d \n",
    "Since n is small, there are lower chance of us rejecting any null hypothesis and commiting the type 1 error "
   ]
  },
  {
   "cell_type": "code",
   "execution_count": null,
   "metadata": {},
   "outputs": [],
   "source": []
  }
 ],
 "metadata": {
  "kernelspec": {
   "display_name": "Python 3",
   "language": "python",
   "name": "python3"
  },
  "language_info": {
   "codemirror_mode": {
    "name": "ipython",
    "version": 3
   },
   "file_extension": ".py",
   "mimetype": "text/x-python",
   "name": "python",
   "nbconvert_exporter": "python",
   "pygments_lexer": "ipython3",
   "version": "3.7.3"
  }
 },
 "nbformat": 4,
 "nbformat_minor": 2
}
