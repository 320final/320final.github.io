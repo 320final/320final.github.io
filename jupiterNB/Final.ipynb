{
 "cells": [
  {
   "cell_type": "markdown",
   "metadata": {},
   "source": [
    "#### Think of a new title \n",
    "<h1><center>Airbnb</center></h1> \n",
    "\n",
    "\n",
    "<h4 align=\"left\">Authors : Japneet Singh, Aviral Choudhary  </h4> \n",
    "\n"
   ]
  },
  {
   "cell_type": "markdown",
   "metadata": {},
   "source": [
    "## Introduction \n",
    "\n",
    "### Do we need to change this ??\n",
    "\n",
    "People opnions might vary on the matter of them liking to travel around. Some like to travel at every oppurtunity, some like to travel occasionally, whereas others might not like to travel at all. Regardless, the one thing that they might all agree on is that travelling can get real expensive real fast. The cost of transportation, gas, food, tours, travel kits etc. However, one factor that is really influential is the amount of money you are spending on lodging. The amount you spend on lodging determines how much you can spend on every other thing like the food you can eat or explore, the places you can visit, the experience you can be part of and basically the memories you might make.\n",
    "\n",
    "Airbnb offers excellent choices for short to even long term lodging options for travellers. It's cheaper than hotels and you have the added touch of interacting with a local to know about the place. However, as Airbnb has taken of so has the number of options available and this might really confuse the consumer."
   ]
  },
  {
   "cell_type": "markdown",
   "metadata": {},
   "source": [
    "### Outline\n",
    "\n",
    "    Getting Started\n",
    "        1.1 Required Libraries and APK\n",
    "        1.2 Scrape the website\n",
    "        1.3 Tidy it up\n",
    "        1.4 Map and Viz of Airbnb in US // split this more\n",
    "    Story of New Jersey\n",
    "        2.1 BnB cities of New Jersey\n",
    "        2.2 Best BnB cities according to reviews\n",
    "        2.3 Crime and BnB don't mix well \n",
    "        2.4 Superhosts \n",
    "        \n",
    "    Machine Learning\n",
    "        5.1 Null Hypothesis\n",
    "        5.2 Regression with scikit-learn\n",
    "        5.3 Regression with statsmodels\n",
    "    \n",
    "    Conclusions\n",
    "        7.1 Key Attributes\n",
    "        7.2 Prediction of Overall Rating\n"
   ]
  },
  {
   "cell_type": "markdown",
   "metadata": {},
   "source": [
    "### Required Libraries and APK\n",
    "\n",
    "<ul>\n",
    "\n",
    "<li>pandas and numpy </li> for handling and modeling data\n",
    "<li>matplotlib.pyplot and seaborn </li> plotting and making graphs \n",
    "<li>pandasql</li> query\n",
    "<li>IPython.display</li> displaying the map\n",
    "<li>mapboxg</li> use mapbox \n",
    "<li>sklearn.linear_model import LinearRegression</li> conducting linear regeression \n",
    "<li>statsmodels</li> summary\n",
    "\n",
    "A more comprehensive list of the enviorment use is available at Requirments.txt (remember to link it)\n"
   ]
  },
  {
   "cell_type": "code",
   "execution_count": null,
   "metadata": {},
   "outputs": [],
   "source": [
    "import pandas as pd\n",
    "import matplotlib.pyplot as plt\n",
    "import numpy as np\n",
    "import seaborn as sns\n",
    "from sklearn.linear_model import LinearRegression\n",
    "import statsmodels.api as sm\n",
    "from mapboxgl.utils import *\n",
    "from mapboxgl.viz import *\n",
    "import pandasql\n",
    "from IPython.display import IFrame\n",
    "import os\n",
    "import json\n",
    "from sklearn import model_selection"
   ]
  },
  {
   "cell_type": "markdown",
   "metadata": {},
   "source": [
    "### Scrape && Tidy it up\n",
    "\n",
    "We made a python scrapper ( file name and hyperlink to it) to get the sample data from the Airbnb website. We then left it runing over night via a server that we hosted locally, gathering 33,000 data points or Airbnb listing from across the country on which we would later run the analysis. \n",
    "\n",
    "\n",
    "Made a dict mapping states to ...\n",
    "just talk about it"
   ]
  },
  {
   "cell_type": "code",
   "execution_count": null,
   "metadata": {},
   "outputs": [],
   "source": [
    "from bs4 import BeautifulSoup as bs\n",
    "import requests\n",
    "import urllib\n",
    "import json\n",
    "import time\n",
    "import collections\n",
    "import pprint\n",
    "import csv\n",
    "\n",
    "states = {\n",
    "    'Alabama': 'ChIJdf5LHzR_hogR6czIUzU0VV4',\n",
    "    'Alaska': 'ChIJG8CuwJzfAFQRNduKqSde27w',\n",
    "    'Arizona': 'ChIJaxhMy-sIK4cRcc3Bf7EnOUI',\n",
    "    'Arkansas': 'ChIJYSc_dD-e0ocR0NLf_z5pBaQ',\n",
    "    'California': 'ChIJPV4oX_65j4ARVW8IJ6IJUYs',\n",
    "    'Colorado': 'ChIJt1YYm3QUQIcR_6eQSTGDVMc',\n",
    "    'Connecticut': 'ChIJpVER8hFT5okR5XBhBVttmq4',\n",
    "    'Delaware': 'ChIJO9YMTXYFx4kReOgEjBItHZQ',\n",
    "    'Florida': 'ChIJvypWkWV2wYgR0E7HW9MTLvc',\n",
    "    'Georgia': 'ChIJV4FfHcU28YgR5xBP7BC8hGY',\n",
    "    'Idaho': 'ChIJ6Znkhaj_WFMRWIf3FQUwa9A',\n",
    "    'Illinois': 'ChIJGSZubzgtC4gRVlkRZFCCFX8',\n",
    "    'Indiana': 'ChIJHRv42bxQa4gRcuwyy84vEH4',\n",
    "    'Iowa': 'ChIJGWD48W9e7ocR2VnHV0pj78Y',\n",
    "    'Kansas': 'ChIJawF8cXEXo4cRXwk-S6m0wmg',\n",
    "    'Kentucky': 'ChIJyVMZi0xzQogR_N_MxU5vH3c',\n",
    "    'Louisiana': 'ChIJZYIRslSkIIYRA0flgTL3Vck',\n",
    "    'Maine': 'ChIJ1YpTHd4dsEwR0KggZ2_MedY',\n",
    "    'Maryland': 'ChIJ35Dx6etNtokRsfZVdmU3r_I',\n",
    "    'Massachusetts': 'ChIJ_b9z6W1l44kRHA2DVTbQxkU',\n",
    "    'Michigan': 'ChIJEQTKxz2qTE0Rs8liellI3Zc',\n",
    "    'Minnesota': 'ChIJmwt4YJpbWE0RD6L-EJvJogI',\n",
    "    'Mississippi': 'ChIJGdRK5OQyKIYR2qbc6X8XDWI',\n",
    "    'Missouri': 'ChIJfeMiSNXmwIcRcr1mBFnEW7U',\n",
    "    'Montana': 'ChIJ04p7LZwrQVMRGGwqz1jWcfU',\n",
    "    'Nebraska': 'ChIJ7fwMtciNk4cRxArzDwyQJ6E',\n",
    "    'Nevada': 'ChIJcbTe-KEKmYARs5X8qooDR88',\n",
    "    'New Hampshire': 'ChIJ66bAnUtEs0wR64CmJa8CyNc',\n",
    "    'New Jersey': 'ChIJn0AAnpX7wIkRjW0_-Ad70iw',\n",
    "    'New Mexico': 'ChIJqVKY50NQGIcRup41Yxpuv0Y',\n",
    "    'New York': 'ChIJqaUj8fBLzEwRZ5UY3sHGz90',\n",
    "    'North Carolina': 'ChIJgRo4_MQfVIgRGa4i6fUwP60',\n",
    "    'North Dakota': 'ChIJY-nYVxKD11IRyc9egzmahA0',\n",
    "    'Ohio': 'ChIJwY5NtXrpNogRFtmfnDlkzeU',\n",
    "    'Oklahoma': 'ChIJnU-ssRE5rIcRSOoKQDPPHF0',\n",
    "    'Oregon': 'ChIJVWqfm3xuk1QRdrgLettlTH0',\n",
    "    'Pennsylvania': 'ChIJieUyHiaALYgRPbQiUEchRsI',\n",
    "    'Rhode Island': 'ChIJD9cOYhQ15IkR5wbB57wYTh4',\n",
    "    'South Carolina': 'ChIJ49ExeWml-IgRnhcF9TKh_7k',\n",
    "    'South Dakota': 'ChIJpTjphS1DfYcRt6SGMSnW8Ac',\n",
    "    'Tennessee': 'ChIJA8-XniNLYYgRVpGBpcEgPgM',\n",
    "    'Texas': 'ChIJSTKCCzZwQIYRPN4IGI8c6xY',\n",
    "    'Utah': 'ChIJzfkTj8drTIcRP0bXbKVK370',\n",
    "    'Vermont': 'ChIJ_87aSGzctEwRtGtUNnSJTSY',\n",
    "    'Virginia': 'ChIJzbK8vXDWTIgRlaZGt0lBTsA',\n",
    "    'Washington': 'ChIJ-bDD5__lhVQRuvNfbGh4QpQ'\n",
    "}\n",
    "\n",
    "data_dict = []\n",
    "\n",
    "for state in states:\n",
    "    id = states[state]\n",
    "    state = state.replace(\" \", \"%20\")\n",
    "    print(state)\n",
    "    url = \"https://www.airbnb.com/api/v2/explore_tabs?_format=for_explore_search_web&auto_ib=false&client_session_id=7a1719fb-5452-4be6-8040-45e57eddd9c8&currency=USD&current_tab_id=home_tab&experiences_per_grid=20&fetch_filters=true&guidebooks_per_grid=20&has_zero_guest_treatment=true&hide_dates_and_guests_filters=false&is_guided_search=true&is_new_cards_experiment=true&is_standard_search=true&items_per_grid=18&key=d306zoyjsyarp7ifhu67rjxn52tv0t20&locale=en&metadata_only=false&query={}%2C%20United%20States&query_understanding_enabled=true&refinement_paths%5B%5D=%2Fhomes&satori_version=1.1.14&screen_height=969&screen_size=medium&screen_width=1114&selected_tab_id=home_tab&show_groupings=true&supports_for_you_v3=true&timezone_offset=-360&version=1.6.5\".format(state)\n",
    "\n",
    "    for i in range(0,20):\n",
    "        if i == 0:\n",
    "            response = requests.get(url)\n",
    "            print(response)\n",
    "            page = urllib.request.urlopen(url)\n",
    "            print(page)\n",
    "            soup = bs(page, \"html.parser\")\n",
    "            print(soup)\n",
    "\n",
    "            output = \"0{}page.json\".format(state)\n",
    "            with open(output, 'wb') as f:\n",
    "                f.write(str(soup).encode())\n",
    "            \n",
    "        else:\n",
    "            response = requests.get(\"https://www.airbnb.com/api/v2/explore_tabs?_format=for_explore_search_web&auto_ib=false&client_session_id=7a1719fb-5452-4be6-8040-45e57eddd9c8&currency=USD&current_tab_id=home_tab&experiences_per_grid=20&federated_search_session_id=0360991d-1087-4e46-a106-d5090e86351d&fetch_filters=true&guidebooks_per_grid=20&has_zero_guest_treatment=true&hide_dates_and_guests_filters=false&is_guided_search=true&is_new_cards_experiment=true&is_standard_search=true&items_offset={}&items_per_grid=18&key=d306zoyjsyarp7ifhu67rjxn52tv0t20&last_search_session_id=b58af588-7a00-48a0-b9ff-10d3c4a47a52&locale=en&metadata_only=false&place_id={}&query={}%2C%20United%20States&query_understanding_enabled=true&refinement_paths%5B%5D=%2Fhomes&s_tag=X74Q583S&satori_version=1.1.14&screen_height=969&screen_size=medium&screen_width=1114&search_type=pagination&section_offset=4&selected_tab_id=home_tab&show_groupings=true&supports_for_you_v3=true&timezone_offset=-360&version=1.6.5\".format(i*18,id,state))\n",
    "            print(response)\n",
    "            page = urllib.request.urlopen(\"https://www.airbnb.com/api/v2/explore_tabs?_format=for_explore_search_web&auto_ib=false&client_session_id=7a1719fb-5452-4be6-8040-45e57eddd9c8&currency=USD&current_tab_id=home_tab&experiences_per_grid=20&federated_search_session_id=0360991d-1087-4e46-a106-d5090e86351d&fetch_filters=true&guidebooks_per_grid=20&has_zero_guest_treatment=true&hide_dates_and_guests_filters=false&is_guided_search=true&is_new_cards_experiment=true&is_standard_search=true&items_offset={}&items_per_grid=18&key=d306zoyjsyarp7ifhu67rjxn52tv0t20&last_search_session_id=b58af588-7a00-48a0-b9ff-10d3c4a47a52&locale=en&metadata_only=false&place_id={}&query={}%2C%20United%20States&query_understanding_enabled=true&refinement_paths%5B%5D=%2Fhomes&s_tag=X74Q583S&satori_version=1.1.14&screen_height=969&screen_size=medium&screen_width=1114&search_type=pagination&section_offset=4&selected_tab_id=home_tab&show_groupings=true&supports_for_you_v3=true&timezone_offset=-360&version=1.6.5\".format(i*18,id,state))\n",
    "            print(page)\n",
    "            soup = bs(page, \"html.parser\")\n",
    "            print(soup)\n",
    "            output = \"{}{}page.json\".format(i,state)\n",
    "            with open(output, 'wb') as f:\n",
    "                f.write(str(soup).encode())\n",
    "    \n",
    "    for i in range(0,20):\n",
    "        print(i)\n",
    "        with open('{}{}page.json'.format(i,state), 'r', encoding=\"utf8\") as file:\n",
    "            data = json.load(file)\n",
    "\n",
    "        print(data)\n",
    "        if i == 0:\n",
    "            print(\"yo\")\n",
    "            homes = data.get('explore_tabs')[0].get('sections')[0].get('listings')\n",
    "        else:\n",
    "            homes = data.get('explore_tabs')[0].get('sections')[0].get('listings')\n",
    "            print(\"fo\")\n",
    "        for home in homes:\n",
    "            obj = {\n",
    "                \"state\": \"{}\".format(state),\n",
    "                \"room_id\": \"{}\".format(str(home.get('listing').get('id'))),\n",
    "                \"name\": \"{}\".format(str(home.get('listing').get('name'))),\n",
    "                \"city\": \"{}\".format(home.get('listing').get('city')),\n",
    "                \"person_cap\": \"{}\".format(home.get('listing').get('person_capacity')),\n",
    "                \"bedrooms\": \"{}\".format(home.get('listing').get('beds')),\n",
    "                \"bathrooms\": \"{}\".format(home.get('listing').get('bathrooms')),\n",
    "                \"amenities\": \"{}\".format(home.get('listing').get('preview_amenities')),\n",
    "                \"reviews\": \"{}\".format(home.get('listing').get('reviews_count')),\n",
    "                \"prop_type\": \"{}\".format(home.get('listing').get('room_and_property_type')),\n",
    "                \"guests\": \"{}\".format(home.get('listing').get('guest_label')),\n",
    "                \"star\": \"{}\".format(home.get('listing').get('star_rating')),\n",
    "                \"avg_rating\": \"{}\".format(home.get('listing').get('avg_rating')),\n",
    "                \"min_nights\": \"{}\".format(home.get('listing').get('min_nights')),\n",
    "                \"max_nights\": \"{}\".format(home.get('listing').get('max_nights')),\n",
    "                \"price\": \"{}\".format(home.get('pricing_quote').get('rate').get('amount')),\n",
    "                \"lat\": \"{}\".format(home.get('listing').get('lat')),\n",
    "                \"long\": \"{}\".format(home.get('listing').get('lng')),\n",
    "                \"price_factor\": \"{}\".format(home.get('pricing_quote').get('weekly_price_factor')),\n",
    "                \"super_host\": \"{}\".format(home.get('listing').get('is_superhost'))\n",
    "            }\n",
    "            data_dict.append(obj)\n",
    "f = open(\"sample.csv\", \"w\", encoding='utf-8')\n",
    "writer = csv.DictWriter(\n",
    "    f, fieldnames=[\"state\",\"room_id\", \"name\", \"city\", \"person_cap\", \"bedrooms\", \"bathrooms\",\n",
    "    \"amenities\", \"reviews\", \"prop_type\", \"guests\", \"star\", \"avg_rating\", \"min_nights\",\n",
    "    \"max_nights\", \"price\", \"lat\", 'long', 'price_factor','super_host'])\n",
    "writer.writeheader()\n",
    "writer.writerows(data_dict)\n"
   ]
  },
  {
   "cell_type": "markdown",
   "metadata": {},
   "source": [
    "After scrapping the only thing left was to make some adjustments to the type of series in the dataframe so we could later use them in visualizations and mapping. We also made a dictionary mapping each state to a data frame of the Airbnb that were present in it"
   ]
  },
  {
   "cell_type": "code",
   "execution_count": null,
   "metadata": {},
   "outputs": [],
   "source": [
    "data = pd.read_csv(\"sample.csv\")\n",
    "data = data.drop('amenities',axis = 1)\n",
    "data['avg_rating'] = pd.to_numeric(data['avg_rating'], errors='coerce')\n",
    "\n",
    "states = data['state'].unique().tolist()   \n",
    "gb = data.groupby('state')    \n",
    "lst = [gb.get_group(x) for x in gb.groups]\n",
    "dictionary = dict(zip(states, lst))\n",
    "\n",
    "\n",
    "data.head()\n"
   ]
  },
  {
   "cell_type": "markdown",
   "metadata": {},
   "source": [
    "##### The following describes how many bnb's exist in each city in the US from our data"
   ]
  },
  {
   "cell_type": "code",
   "execution_count": null,
   "metadata": {},
   "outputs": [],
   "source": [
    "query = \"SELECT city, count(city) as count, lat, long FROM data Group By city\"\n",
    "\n",
    "sub = pandasql.sqldf(query,globals())\n",
    "display(sub)\n",
    "l = sub.values.tolist()\n",
    "\n",
    "df_split = np.array_split(sub, 5)\n",
    "for i in range(0,5):    \n",
    "    points = df_to_geojson(df_split[i], properties=['city', 'count'], lat = 'lat', lon = 'long', precision = 3)\n",
    "#     points2 = df_to_geojson(sub2, properties=['city', 'count'], lat = 'lat', lon = 'long', precision = 3)\n",
    "    #Create a heatmap\n",
    "    color_stops = create_color_stops([1,10,50,100], colors=['#f5fcff', '#dbf3fa', '#b7e9f7', '#92dff3'])\n",
    "    #Create a heatmap\n",
    "    viz = ClusteredCircleViz(points,\n",
    "                             access_token='pk.eyJ1IjoiamFwbmVldCIsImEiOiJjazQzM25majcwM3diM21uMXk4bnVieWl6In0.Nw00DmDETPkUH7dtCSzC9Q',\n",
    "                             color_stops=color_stops,\n",
    "                             style = 'mapbox://styles/mapbox/light-v9?optimize=true',\n",
    "                             radius_stops=[[1,5], [10, 10], [50, 15], [100, 20]],\n",
    "                             radius_default=2,\n",
    "                             cluster_maxzoom=10,\n",
    "                             cluster_radius=30,\n",
    "                             label_size=8,\n",
    "                             opacity=0.9,\n",
    "                             center=(-95, 40),\n",
    "                             zoom=3)\n",
    "\n",
    "    viz.show()\n"
   ]
  },
  {
   "cell_type": "markdown",
   "metadata": {},
   "source": [
    "### Map and Visualization "
   ]
  },
  {
   "cell_type": "markdown",
   "metadata": {},
   "source": [
    "#####  Price distribution of bnbs in the US"
   ]
  },
  {
   "cell_type": "code",
   "execution_count": null,
   "metadata": {},
   "outputs": [],
   "source": [
    "costs = []\n",
    "\n",
    "for i in lst: \n",
    "    mean = i['price'].mean()\n",
    "    costs.append(mean)\n",
    "    \n",
    "len(costs)\n",
    "len(states)\n",
    "plt.figure(figsize = (30, 10))\n",
    "ax = sns.barplot(x = states, y = costs)\n",
    "ax.set_xticklabels(ax.get_xticklabels(), rotation=40, ha=\"right\",fontsize=20)\n",
    "plt.tight_layout()\n",
    "plt.show()\n",
    "\n",
    "\n",
    "query = \"SELECT city, price, lat,long FROM data Group By city Order By price\"\n",
    "sub = pandasql.sqldf(query,globals())\n",
    "display(sub)\n",
    "\n",
    "df_split = np.array_split(sub, 5)\n",
    "for i in range(0,5):    \n",
    "#     points = df_to_geojson(df_split[i], properties=['city', 'count'], lat = 'lat', lon = 'long', precision = 3)\n",
    "    points = df_to_geojson(df_split[i], \n",
    "                           properties=['city', 'price'],\n",
    "                           lat='lat', lon='long', precision=3)\n",
    "\n",
    "    # Generate data breaks and color stops from colorBrewer\n",
    "    color_breaks = [10,50,100,200,300,500,700,1000,1500]\n",
    "    color_stops = create_color_stops(color_breaks, colors='YlGnBu')\n",
    "\n",
    "    # Create the viz from the dataframe\n",
    "    viz = CircleViz(points,\n",
    "                    access_token=token,\n",
    "                    height='600px',\n",
    "                    color_property='price',\n",
    "                    color_stops=color_stops,\n",
    "                    radius = 5,\n",
    "                    center=(-95, 40),\n",
    "                    zoom=3,\n",
    "                    below_layer='waterway-label')\n",
    "    viz.show()"
   ]
  },
  {
   "cell_type": "markdown",
   "metadata": {},
   "source": [
    "##### Heatmap based on how bnbs are distributed according to the reviews they get"
   ]
  },
  {
   "cell_type": "code",
   "execution_count": null,
   "metadata": {},
   "outputs": [],
   "source": [
    "query = \"SELECT city, reviews, lat, long FROM data Group By city\"\n",
    "sub = pandasql.sqldf(query,globals())\n",
    "display(sub)\n",
    "\n",
    "\n",
    "\n",
    "# Generate data breaks and color stops from colorBrewer\n",
    "color_breaks = [0,10,50,100,150,200,250,300,350]\n",
    "\n",
    "heatmap_color_stops = create_color_stops([0.01,0.25,0.5,0.75,1], colors='RdPu')\n",
    "heatmap_radius_stops = [[0,1], [15, 40]] #increase radius with zoom\n",
    "\n",
    "color_stops = create_color_stops(color_breaks, colors='Spectral')\n",
    "\n",
    "heatmap_weight_stops = create_weight_stops(color_breaks)\n",
    "\n",
    "df_split = np.array_split(sub, 3)\n",
    "for i in range(0,3):    \n",
    "    \n",
    "    points = df_to_geojson(df_split[i], \n",
    "                       properties=['city', 'reviews'],\n",
    "                       lat='lat', lon='long', precision=3)\n",
    "    viz = HeatmapViz(points,\n",
    "                 access_token='pk.eyJ1IjoiamFwbmVldCIsImEiOiJjazQzM25majcwM3diM21uMXk4bnVieWl6In0.Nw00DmDETPkUH7dtCSzC9Q',\n",
    "                 weight_property='reviews',\n",
    "                 style = 'mapbox://styles/mapbox/light-v9?optimize=true',\n",
    "                 weight_stops=heatmap_weight_stops,\n",
    "                 color_stops=heatmap_color_stops,\n",
    "                 radius_stops=heatmap_radius_stops,\n",
    "                 opacity=0.9,\n",
    "                 center=(-95, 40),\n",
    "                 zoom=3,\n",
    "                 below_layer='waterway-label')\n",
    "\n",
    "    viz.show()"
   ]
  },
  {
   "cell_type": "markdown",
   "metadata": {},
   "source": [
    "###  A story of New Jersey"
   ]
  },
  {
   "cell_type": "markdown",
   "metadata": {},
   "source": [
    "##### In which city are bnbs located"
   ]
  },
  {
   "cell_type": "code",
   "execution_count": null,
   "metadata": {},
   "outputs": [],
   "source": [
    "query = \"SELECT city, count(city) as count, lat, long FROM data WHERE state = 'New%20Jersey' Group By city Order By count\"\n",
    "sub = pandasql.sqldf(query,globals())\n",
    "display(sub)\n",
    "\n",
    "points = df_to_geojson(sub, \n",
    "                       properties=['city', 'count'],\n",
    "                       lat='lat', lon='long', precision=3)\n",
    "\n",
    "# Generate data breaks and color stops from colorBrewer\n",
    "color_breaks = [1,2,3,4,5,10,30,40,45]\n",
    "color_stops = create_color_stops(color_breaks, colors='YlGnBu')\n",
    "\n",
    "# Create the viz from the dataframe\n",
    "viz = CircleViz(points,\n",
    "                access_token=token,\n",
    "                height='600px',\n",
    "                color_property='count',\n",
    "                color_stops=color_stops,\n",
    "                label_property='reviews',\n",
    "                stroke_color='black',\n",
    "                radius = 5,\n",
    "                center=(-75, 40),\n",
    "                zoom=7,\n",
    "                below_layer='waterway-label')\n",
    "viz.show()"
   ]
  },
  {
   "cell_type": "markdown",
   "metadata": {},
   "source": [
    "##### Which cities in New Jersey have highest reviews"
   ]
  },
  {
   "cell_type": "code",
   "execution_count": null,
   "metadata": {},
   "outputs": [],
   "source": [
    "query = \"SELECT city, reviews, count(city) as count, lat, long FROM data WHERE state = 'New%20Jersey' Group By city\"\n",
    "sub = pandasql.sqldf(query,globals())\n",
    "display(sub)\n",
    "\n",
    "\n",
    "plt.figure(figsize = (40, 10))\n",
    "ax = sns.barplot(x = sub['city'], y = sub['reviews'])\n",
    "ax.set_xticklabels(ax.get_xticklabels(), rotation=40, ha=\"right\",fontsize=20)\n",
    "plt.tight_layout()\n",
    "plt.show()"
   ]
  },
  {
   "cell_type": "markdown",
   "metadata": {},
   "source": [
    "##### Depicts which city have a better ratio of avg_rating and number of bnbs in that city"
   ]
  },
  {
   "cell_type": "code",
   "execution_count": null,
   "metadata": {},
   "outputs": [],
   "source": [
    "query = \"SELECT city, count(city) as count, avg(avg_rating) as rating ,lat, long, (avg_rating/count(city)) as ratio FROM data WHERE state = 'New%20Jersey' Group By city Order By ratio\"\n",
    "sub = pandasql.sqldf(query,globals())\n",
    "display(sub)\n",
    "\n",
    "plt.figure(figsize = (40, 10))\n",
    "ax = sns.barplot(x = sub['city'], y = sub['ratio'])\n",
    "ax.set_xticklabels(ax.get_xticklabels(), rotation=40, ha=\"right\",fontsize=20)\n",
    "plt.tight_layout()\n",
    "plt.show()"
   ]
  },
  {
   "cell_type": "markdown",
   "metadata": {},
   "source": [
    "##### Crime and BnB do not mix"
   ]
  },
  {
   "cell_type": "code",
   "execution_count": null,
   "metadata": {},
   "outputs": [],
   "source": [
    "query = \"SELECT city, count(city) as count, avg(avg_rating) as rating ,lat, long, (avg_rating/count(city)) as ratio FROM data WHERE state = 'New%20Jersey' Group By city Order By ratio\"\n",
    "sub = pandasql.sqldf(query,globals())\n",
    "query = \"SELECT city, ratio, lat, long FROM sub where ratio < 4\"\n",
    "sub = pandasql.sqldf(query,globals())\n",
    "display(sub)\n",
    "\n",
    "points = df_to_geojson(sub, \n",
    "                       properties=['city', 'ratio'],\n",
    "                       lat='lat', lon='long', precision=3)\n",
    "\n",
    "# Generate data breaks and color stops from colorBrewer\n",
    "color_breaks = [0,0.5,1,1.5,2,2.5]\n",
    "color_stops = create_color_stops(color_breaks, colors='YlGnBu')\n",
    "\n",
    "# Create the viz from the dataframe\n",
    "viz = CircleViz(points,\n",
    "                access_token=token,\n",
    "                height='600px',\n",
    "                color_property='ratio',\n",
    "                color_stops=color_stops,\n",
    "                label_property='reviews',\n",
    "                radius = 5,\n",
    "                center=(-75, 41),\n",
    "                zoom=7,\n",
    "                below_layer='waterway-label')\n",
    "viz.show()"
   ]
  },
  {
   "cell_type": "markdown",
   "metadata": {},
   "source": [
    "#### Superhosts in US"
   ]
  },
  {
   "cell_type": "code",
   "execution_count": null,
   "metadata": {},
   "outputs": [],
   "source": [
    "query = \"SELECT count(CASE WHEN super_host THEN 1 END) as host_true, count(CASE WHEN not super_host THEN 1 END) as host_false FROM data\"\n",
    "sub = pandasql.sqldf(query,globals())\n",
    "l = sub.values.tolist()\n",
    "display(sub)\n",
    "plt.bar('host_true',sub['host_true'])\n",
    "plt.bar('host_false', sub['host_false'])\n",
    "plt.show()"
   ]
  },
  {
   "cell_type": "markdown",
   "metadata": {},
   "source": [
    "#### Number of super hosts in New Jersey"
   ]
  },
  {
   "cell_type": "code",
   "execution_count": null,
   "metadata": {},
   "outputs": [],
   "source": [
    "query = \"SELECT city, count(CASE WHEN super_host THEN 1 END) as host_true, count(CASE WHEN not super_host THEN 1 END) as host_false, lat, long FROM data WHERE state = 'New%20Jersey' Group By city Order By host_true\"\n",
    "sub = pandasql.sqldf(query,globals())\n",
    "l = sub.values.tolist()\n",
    "display(sub)\n",
    "\n",
    "plt.bar('host_true',sub['host_true'])\n",
    "plt.bar('host_false', sub['host_false'])\n",
    "plt.show()\n",
    "\n",
    "\n",
    "points = df_to_geojson(sub, \n",
    "                       properties=['city', 'host_true'],\n",
    "                       lat='lat', lon='long', precision=3)\n",
    "\n",
    "# Generate data breaks and color stops from colorBrewer\n",
    "color_breaks = [0,5,10,15,20]\n",
    "color_stops = create_color_stops(color_breaks, colors='YlGnBu')\n",
    "\n",
    "# Create the viz from the dataframe\n",
    "viz = CircleViz(points,\n",
    "                access_token=token,\n",
    "                height='600px',\n",
    "                color_property='host_true',\n",
    "                color_stops=color_stops,\n",
    "                label_property='reviews',\n",
    "                radius = 5,\n",
    "                center=(-75, 41),\n",
    "                zoom=7,\n",
    "                below_layer='waterway-label')\n",
    "viz.show()"
   ]
  },
  {
   "cell_type": "code",
   "execution_count": 1,
   "metadata": {},
   "outputs": [],
   "source": [
    "## Shows cities with bnbs and their max capacities"
   ]
  },
  {
   "cell_type": "code",
   "execution_count": null,
   "metadata": {},
   "outputs": [],
   "source": [
    "query = \"SELECT city, count(person_cap) as count, avg(avg_rating) as rating ,lat, long, person_cap FROM data WHERE state = 'New%20Jersey' Group By city\"\n",
    "sub = pandasql.sqldf(query,globals())\n",
    "display(sub)\n",
    "\n",
    "plt.figure(figsize = (40, 10))\n",
    "ax = sns.barplot(x = sub['city'], y = sub['person_cap'])\n",
    "ax.set_xticklabels(ax.get_xticklabels(), rotation=40, ha=\"right\",fontsize=20)\n",
    "plt.tight_layout()\n",
    "plt.show()"
   ]
  },
  {
   "cell_type": "code",
   "execution_count": null,
   "metadata": {},
   "outputs": [],
   "source": [
    "## Shows what kind of rooms are available in New Jersey"
   ]
  },
  {
   "cell_type": "code",
   "execution_count": null,
   "metadata": {},
   "outputs": [],
   "source": [
    "query = \"SELECT count(prop_type) as count, lat,long, prop_type  FROM data WHERE state = 'New%20Jersey' Group By prop_type\"\n",
    "sub = pandasql.sqldf(query,globals())\n",
    "display(sub)\n",
    "\n",
    "plt.figure(figsize = (40, 50))\n",
    "ax = sns.barplot(y = sub['prop_type'], x = sub['count'])\n",
    "ax.set_yticklabels(ax.get_yticklabels(), rotation=40, ha=\"right\",fontsize=30)\n",
    "plt.tight_layout()\n",
    "plt.show()"
   ]
  },
  {
   "cell_type": "code",
   "execution_count": null,
   "metadata": {},
   "outputs": [],
   "source": [
    "## Price distribution of bnbs in NJ"
   ]
  },
  {
   "cell_type": "code",
   "execution_count": 2,
   "metadata": {},
   "outputs": [
    {
     "ename": "NameError",
     "evalue": "name 'pandasql' is not defined",
     "output_type": "error",
     "traceback": [
      "\u001b[0;31m---------------------------------------------------------------------------\u001b[0m",
      "\u001b[0;31mNameError\u001b[0m                                 Traceback (most recent call last)",
      "\u001b[0;32m<ipython-input-2-29ef9423ab10>\u001b[0m in \u001b[0;36m<module>\u001b[0;34m\u001b[0m\n\u001b[1;32m      1\u001b[0m \u001b[0mquery\u001b[0m \u001b[0;34m=\u001b[0m \u001b[0;34m\"SELECT city, price, lat,long FROM data WHERE state = 'New%20Jersey' Group By city Order By price\"\u001b[0m\u001b[0;34m\u001b[0m\u001b[0;34m\u001b[0m\u001b[0m\n\u001b[0;32m----> 2\u001b[0;31m \u001b[0msub\u001b[0m \u001b[0;34m=\u001b[0m \u001b[0mpandasql\u001b[0m\u001b[0;34m.\u001b[0m\u001b[0msqldf\u001b[0m\u001b[0;34m(\u001b[0m\u001b[0mquery\u001b[0m\u001b[0;34m,\u001b[0m\u001b[0mglobals\u001b[0m\u001b[0;34m(\u001b[0m\u001b[0;34m)\u001b[0m\u001b[0;34m)\u001b[0m\u001b[0;34m\u001b[0m\u001b[0;34m\u001b[0m\u001b[0m\n\u001b[0m\u001b[1;32m      3\u001b[0m \u001b[0mdisplay\u001b[0m\u001b[0;34m(\u001b[0m\u001b[0msub\u001b[0m\u001b[0;34m)\u001b[0m\u001b[0;34m\u001b[0m\u001b[0;34m\u001b[0m\u001b[0m\n\u001b[1;32m      4\u001b[0m \u001b[0;34m\u001b[0m\u001b[0m\n\u001b[1;32m      5\u001b[0m points = df_to_geojson(sub, \n",
      "\u001b[0;31mNameError\u001b[0m: name 'pandasql' is not defined"
     ]
    }
   ],
   "source": [
    "query = \"SELECT city, price, lat,long FROM data WHERE state = 'New%20Jersey' Group By city Order By price\"\n",
    "sub = pandasql.sqldf(query,globals())\n",
    "display(sub)\n",
    "\n",
    "points = df_to_geojson(sub, \n",
    "                       properties=['city', 'price'],\n",
    "                       lat='lat', lon='long', precision=3)\n",
    "\n",
    "# Generate data breaks and color stops from colorBrewer\n",
    "color_breaks = [10,50,100,200,300,400,500,600,800]\n",
    "color_stops = create_color_stops(color_breaks, colors='YlGnBu')\n",
    "\n",
    "# Create the viz from the dataframe\n",
    "viz = CircleViz(points,\n",
    "                access_token=token,\n",
    "                height='600px',\n",
    "                color_property='price',\n",
    "                color_stops=color_stops,\n",
    "                radius = 5,\n",
    "                center=(-75, 40.2),\n",
    "                zoom=7,\n",
    "                below_layer='waterway-label')\n",
    "viz.show()"
   ]
  },
  {
   "cell_type": "markdown",
   "metadata": {},
   "source": [
    "### Machine Learning and Jersey ? Do they mix ?\n",
    "\n"
   ]
  },
  {
   "cell_type": "code",
   "execution_count": null,
   "metadata": {},
   "outputs": [],
   "source": [
    "jersey = dictionary['New%20Jersey']\n",
    "\n",
    "jersey['price']       = jersey['price'].astype(np.int64)\n",
    "jersey['bedrooms']    = jersey['bedrooms'].astype(np.float64)\n",
    "jersey['reviews']     = jersey['reviews'].astype(np.float64)\n",
    "jersey['bathrooms']   = jersey['bathrooms'].astype(np.float64)\n",
    "jersey['person_cap']  = jersey['person_cap'].astype(np.float64)\n",
    "\n",
    "print(a.dtypes)\n",
    "print(np.any(np.isnan(a['price']))) # Should be False\n",
    "print(np.any(np.isfinite(a['price']))) # Should be True\n",
    "print(np.any(np.isnan(a['avg_rating'])))\n",
    "print(np.any(np.isfinite(a['avg_rating'])))\n",
    "\n",
    "jersey.dropna(how='any', inplace=True)\n",
    "jersey.reset_index(drop=True)"
   ]
  },
  {
   "cell_type": "markdown",
   "metadata": {},
   "source": [
    "Lets draw some graphs to get a better idea "
   ]
  },
  {
   "cell_type": "code",
   "execution_count": 3,
   "metadata": {},
   "outputs": [
    {
     "ename": "NameError",
     "evalue": "name 'plt' is not defined",
     "output_type": "error",
     "traceback": [
      "\u001b[0;31m---------------------------------------------------------------------------\u001b[0m",
      "\u001b[0;31mNameError\u001b[0m                                 Traceback (most recent call last)",
      "\u001b[0;32m<ipython-input-3-96cd365e20a2>\u001b[0m in \u001b[0;36m<module>\u001b[0;34m\u001b[0m\n\u001b[0;32m----> 1\u001b[0;31m \u001b[0mplt\u001b[0m\u001b[0;34m.\u001b[0m\u001b[0mfigure\u001b[0m\u001b[0;34m(\u001b[0m\u001b[0mfigsize\u001b[0m \u001b[0;34m=\u001b[0m \u001b[0;34m(\u001b[0m\u001b[0;36m20\u001b[0m\u001b[0;34m,\u001b[0m \u001b[0;36m15\u001b[0m\u001b[0;34m)\u001b[0m\u001b[0;34m)\u001b[0m\u001b[0;34m\u001b[0m\u001b[0;34m\u001b[0m\u001b[0m\n\u001b[0m\u001b[1;32m      2\u001b[0m \u001b[0mplt\u001b[0m\u001b[0;34m.\u001b[0m\u001b[0mscatter\u001b[0m\u001b[0;34m(\u001b[0m\u001b[0mjersey\u001b[0m\u001b[0;34m.\u001b[0m\u001b[0mprice\u001b[0m\u001b[0;34m,\u001b[0m\u001b[0mjersey\u001b[0m\u001b[0;34m.\u001b[0m\u001b[0mcity\u001b[0m\u001b[0;34m,\u001b[0m \u001b[0ms\u001b[0m \u001b[0;34m=\u001b[0m \u001b[0;36m10\u001b[0m\u001b[0;34m)\u001b[0m\u001b[0;34m\u001b[0m\u001b[0;34m\u001b[0m\u001b[0m\n\u001b[1;32m      3\u001b[0m \u001b[0mplt\u001b[0m\u001b[0;34m.\u001b[0m\u001b[0mtitle\u001b[0m\u001b[0;34m(\u001b[0m\u001b[0;34m'price vs city'\u001b[0m\u001b[0;34m)\u001b[0m\u001b[0;34m\u001b[0m\u001b[0;34m\u001b[0m\u001b[0m\n\u001b[1;32m      4\u001b[0m \u001b[0mplt\u001b[0m\u001b[0;34m.\u001b[0m\u001b[0mxlabel\u001b[0m\u001b[0;34m(\u001b[0m\u001b[0;34m'city'\u001b[0m\u001b[0;34m)\u001b[0m\u001b[0;34m\u001b[0m\u001b[0;34m\u001b[0m\u001b[0m\n\u001b[1;32m      5\u001b[0m \u001b[0mplt\u001b[0m\u001b[0;34m.\u001b[0m\u001b[0mylabel\u001b[0m\u001b[0;34m(\u001b[0m\u001b[0;34m'price'\u001b[0m\u001b[0;34m)\u001b[0m\u001b[0;34m\u001b[0m\u001b[0;34m\u001b[0m\u001b[0m\n",
      "\u001b[0;31mNameError\u001b[0m: name 'plt' is not defined"
     ]
    }
   ],
   "source": [
    "plt.figure(figsize = (20, 15))\n",
    "plt.scatter(jersey.price,jersey.city, s = 10)\n",
    "plt.title('price vs city')\n",
    "plt.xlabel('city')\n",
    "plt.ylabel('price')"
   ]
  },
  {
   "cell_type": "markdown",
   "metadata": {},
   "source": [
    "Nornally think that the location of Airbnb would make a difference, but in this case it does really seem to make a large difference \n",
    "\n",
    "So we don't need to deal with cities in our analysis. \n",
    "\n",
    "The features (independent variables) are the attributes\n",
    "<ol> \n",
    "    <li>person_cap</li>\n",
    "<li>bedrooms</li>\n",
    "<li>bathrooms</li>\n",
    "<li>reviews</li>\n",
    "<li>avg_rating</li>\n",
    "<li>min_nights</li>\n",
    "<li>max_nights</li>\n",
    "</ol>\n",
    "\n",
    "\n",
    "The target (dependent variable) is the price ."
   ]
  },
  {
   "cell_type": "code",
   "execution_count": null,
   "metadata": {},
   "outputs": [],
   "source": [
    "features = jersey.loc[:, ['person_cap','bedrooms','bathrooms','reviews','avg_rating','min_nights','max_nights']]\n",
    "target   = jersey['price']"
   ]
  },
  {
   "cell_type": "markdown",
   "metadata": {},
   "source": [
    "### Multiple Linear Regression \n",
    "\n",
    "Define X and y for use in scikit-learn's LinearRegression() function. Fit the model.\n"
   ]
  },
  {
   "cell_type": "code",
   "execution_count": 4,
   "metadata": {},
   "outputs": [
    {
     "ename": "NameError",
     "evalue": "name 'features' is not defined",
     "output_type": "error",
     "traceback": [
      "\u001b[0;31m---------------------------------------------------------------------------\u001b[0m",
      "\u001b[0;31mNameError\u001b[0m                                 Traceback (most recent call last)",
      "\u001b[0;32m<ipython-input-4-5237ae0eb865>\u001b[0m in \u001b[0;36m<module>\u001b[0;34m\u001b[0m\n\u001b[0;32m----> 1\u001b[0;31m \u001b[0mX\u001b[0m \u001b[0;34m=\u001b[0m \u001b[0mfeatures\u001b[0m\u001b[0;34m\u001b[0m\u001b[0;34m\u001b[0m\u001b[0m\n\u001b[0m\u001b[1;32m      2\u001b[0m \u001b[0my\u001b[0m \u001b[0;34m=\u001b[0m \u001b[0mtarget\u001b[0m\u001b[0;34m\u001b[0m\u001b[0;34m\u001b[0m\u001b[0m\n\u001b[1;32m      3\u001b[0m \u001b[0mlm\u001b[0m \u001b[0;34m=\u001b[0m \u001b[0mLinearRegression\u001b[0m\u001b[0;34m(\u001b[0m\u001b[0;34m)\u001b[0m\u001b[0;34m\u001b[0m\u001b[0;34m\u001b[0m\u001b[0m\n\u001b[1;32m      4\u001b[0m \u001b[0mmodel\u001b[0m \u001b[0;34m=\u001b[0m \u001b[0mlm\u001b[0m\u001b[0;34m.\u001b[0m\u001b[0mfit\u001b[0m\u001b[0;34m(\u001b[0m\u001b[0mX\u001b[0m\u001b[0;34m,\u001b[0m\u001b[0my\u001b[0m\u001b[0;34m)\u001b[0m\u001b[0;34m\u001b[0m\u001b[0;34m\u001b[0m\u001b[0m\n\u001b[1;32m      5\u001b[0m \u001b[0mlm\u001b[0m\u001b[0;34m.\u001b[0m\u001b[0mscore\u001b[0m\u001b[0;34m(\u001b[0m\u001b[0mX\u001b[0m\u001b[0;34m,\u001b[0m\u001b[0my\u001b[0m\u001b[0;34m)\u001b[0m\u001b[0;34m\u001b[0m\u001b[0;34m\u001b[0m\u001b[0m\n",
      "\u001b[0;31mNameError\u001b[0m: name 'features' is not defined"
     ]
    }
   ],
   "source": [
    "X = features\n",
    "y = target\n",
    "lm = LinearRegression()\n",
    "model = lm.fit(X,y)\n",
    "lm.score(X,y)"
   ]
  },
  {
   "cell_type": "markdown",
   "metadata": {},
   "source": [
    "Get an R-squared score to test how well the variance is explained by the model. Values range from 0 to 1, so the ~.............. we returned means that about 60%  all the variance is explained by the model.\n"
   ]
  },
  {
   "cell_type": "code",
   "execution_count": 5,
   "metadata": {},
   "outputs": [
    {
     "ename": "NameError",
     "evalue": "name 'lm' is not defined",
     "output_type": "error",
     "traceback": [
      "\u001b[0;31m---------------------------------------------------------------------------\u001b[0m",
      "\u001b[0;31mNameError\u001b[0m                                 Traceback (most recent call last)",
      "\u001b[0;32m<ipython-input-5-e4d6e2540df4>\u001b[0m in \u001b[0;36m<module>\u001b[0;34m\u001b[0m\n\u001b[0;32m----> 1\u001b[0;31m \u001b[0msk_coeffs\u001b[0m \u001b[0;34m=\u001b[0m \u001b[0mlm\u001b[0m\u001b[0;34m.\u001b[0m\u001b[0mcoef_\u001b[0m\u001b[0;34m.\u001b[0m\u001b[0mtolist\u001b[0m\u001b[0;34m(\u001b[0m\u001b[0;34m)\u001b[0m\u001b[0;34m\u001b[0m\u001b[0;34m\u001b[0m\u001b[0m\n\u001b[0m\u001b[1;32m      2\u001b[0m \u001b[0;32mfor\u001b[0m \u001b[0mattr\u001b[0m\u001b[0;34m,\u001b[0m \u001b[0mcoef\u001b[0m \u001b[0;32min\u001b[0m \u001b[0mzip\u001b[0m\u001b[0;34m(\u001b[0m\u001b[0mfeatures\u001b[0m\u001b[0;34m,\u001b[0m \u001b[0msk_coeffs\u001b[0m\u001b[0;34m)\u001b[0m\u001b[0;34m:\u001b[0m\u001b[0;34m\u001b[0m\u001b[0;34m\u001b[0m\u001b[0m\n\u001b[1;32m      3\u001b[0m     \u001b[0mprint\u001b[0m\u001b[0;34m(\u001b[0m\u001b[0;34m\"Attribute: {}, Coefficient: {}\"\u001b[0m\u001b[0;34m.\u001b[0m\u001b[0mformat\u001b[0m\u001b[0;34m(\u001b[0m\u001b[0mattr\u001b[0m\u001b[0;34m,\u001b[0m\u001b[0mcoef\u001b[0m\u001b[0;34m)\u001b[0m\u001b[0;34m)\u001b[0m\u001b[0;34m\u001b[0m\u001b[0;34m\u001b[0m\u001b[0m\n",
      "\u001b[0;31mNameError\u001b[0m: name 'lm' is not defined"
     ]
    }
   ],
   "source": [
    "sk_coeffs = lm.coef_.tolist()\n",
    "for attr, coef in zip(features, sk_coeffs):\n",
    "    print(\"Attribute: {}, Coefficient: {}\".format(attr,coef))\n"
   ]
  },
  {
   "cell_type": "markdown",
   "metadata": {},
   "source": [
    "Higher numbers mean stronger dependency"
   ]
  },
  {
   "cell_type": "markdown",
   "metadata": {},
   "source": [
    "###  statsmodels¶\n"
   ]
  },
  {
   "cell_type": "markdown",
   "metadata": {},
   "source": [
    "We use the features and target previously created in the statsmodel api. Folowing the addition of constant we use the method of Ordinary Least Squares (OLS) to estimate our parameters and how do they hold up."
   ]
  },
  {
   "cell_type": "code",
   "execution_count": 6,
   "metadata": {},
   "outputs": [
    {
     "ename": "NameError",
     "evalue": "name 'y' is not defined",
     "output_type": "error",
     "traceback": [
      "\u001b[0;31m---------------------------------------------------------------------------\u001b[0m",
      "\u001b[0;31mNameError\u001b[0m                                 Traceback (most recent call last)",
      "\u001b[0;32m<ipython-input-6-770a6b56b8c2>\u001b[0m in \u001b[0;36m<module>\u001b[0;34m\u001b[0m\n\u001b[0;32m----> 1\u001b[0;31m \u001b[0msm_y\u001b[0m \u001b[0;34m=\u001b[0m \u001b[0my\u001b[0m\u001b[0;34m\u001b[0m\u001b[0;34m\u001b[0m\u001b[0m\n\u001b[0m\u001b[1;32m      2\u001b[0m \u001b[0msm_X\u001b[0m \u001b[0;34m=\u001b[0m \u001b[0mX\u001b[0m\u001b[0;34m\u001b[0m\u001b[0;34m\u001b[0m\u001b[0m\n\u001b[1;32m      3\u001b[0m \u001b[0;34m\u001b[0m\u001b[0m\n\u001b[1;32m      4\u001b[0m \u001b[0msm_X\u001b[0m \u001b[0;34m=\u001b[0m \u001b[0msm\u001b[0m\u001b[0;34m.\u001b[0m\u001b[0madd_constant\u001b[0m\u001b[0;34m(\u001b[0m\u001b[0mX\u001b[0m\u001b[0;34m)\u001b[0m\u001b[0;34m\u001b[0m\u001b[0;34m\u001b[0m\u001b[0m\n\u001b[1;32m      5\u001b[0m \u001b[0;34m\u001b[0m\u001b[0m\n",
      "\u001b[0;31mNameError\u001b[0m: name 'y' is not defined"
     ]
    }
   ],
   "source": [
    "sm_y = y\n",
    "sm_X = X\n",
    "\n",
    "sm_X = sm.add_constant(X)\n",
    "\n",
    "OLS_model = sm.OLS(y,X).fit()\n",
    "OLS_model.summary()"
   ]
  },
  {
   "cell_type": "markdown",
   "metadata": {},
   "source": [
    "According to the coefficients ('coef') column, it is clear that the .... have the most impact on price and the ones with least impact are\n",
    "\n",
    "The p-values above ('P>|t|') we can see that at the significance level of each attribute\n",
    "\n",
    "\n",
    "\n",
    "\n",
    ". The remainder of the p-values are well below 0.05, which means they have significance within the model.\n",
    "\n",
    "This means that we reject the null hypothesis because .\n",
    "\n",
    "Looking at R-Squared value\n",
    "\n"
   ]
  },
  {
   "cell_type": "code",
   "execution_count": null,
   "metadata": {},
   "outputs": [],
   "source": []
  }
 ],
 "metadata": {
  "kernelspec": {
   "display_name": "Python 3",
   "language": "python",
   "name": "python3"
  },
  "language_info": {
   "codemirror_mode": {
    "name": "ipython",
    "version": 3
   },
   "file_extension": ".py",
   "mimetype": "text/x-python",
   "name": "python",
   "nbconvert_exporter": "python",
   "pygments_lexer": "ipython3",
   "version": "3.7.3"
  }
 },
 "nbformat": 4,
 "nbformat_minor": 2
}
